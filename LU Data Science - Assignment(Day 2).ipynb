{
 "cells": [
  {
   "cell_type": "markdown",
   "metadata": {},
   "source": [
    "Question 1"
   ]
  },
  {
   "cell_type": "code",
   "execution_count": 2,
   "metadata": {},
   "outputs": [
    {
     "name": "stdout",
     "output_type": "stream",
     "text": [
      "32\n",
      "12\n",
      "3\n",
      "32\n",
      "434\n",
      "56\n",
      "24\n",
      "5\n",
      "654\n",
      "21\n"
     ]
    },
    {
     "data": {
      "text/plain": [
       "[32, 12, 32, 434, 56, 24, 654]"
      ]
     },
     "execution_count": 2,
     "metadata": {},
     "output_type": "execute_result"
    }
   ],
   "source": [
    "my_list=[]\n",
    "i=10\n",
    "while(i!=0):\n",
    "    x=int(input())\n",
    "    if(x%2==0):\n",
    "        my_list.append(x)\n",
    "    i = i-1\n",
    "my_list"
   ]
  },
  {
   "cell_type": "markdown",
   "metadata": {},
   "source": [
    "----------"
   ]
  },
  {
   "cell_type": "markdown",
   "metadata": {},
   "source": [
    "Question 2"
   ]
  },
  {
   "cell_type": "code",
   "execution_count": 3,
   "metadata": {},
   "outputs": [
    {
     "name": "stdout",
     "output_type": "stream",
     "text": [
      "[1, 8, 27, 64]\n"
     ]
    }
   ],
   "source": [
    "#find cube of numbers using for loop\n",
    "numbers = [1, 2, 3, 4]\n",
    "cubes = []\n",
    "for n in numbers:\n",
    "  cubes.append(n**3)\n",
    "print(cubes)"
   ]
  },
  {
   "cell_type": "code",
   "execution_count": 5,
   "metadata": {},
   "outputs": [
    {
     "name": "stdout",
     "output_type": "stream",
     "text": [
      "[1, 8, 27, 64]\n"
     ]
    }
   ],
   "source": [
    "#find cube of numbers using list comprehension\n",
    "numbers = [1, 2, 3, 4]\n",
    "cubes = [n**3 for n in numbers]\n",
    "print(cubes)"
   ]
  },
  {
   "cell_type": "markdown",
   "metadata": {},
   "source": [
    "----------"
   ]
  },
  {
   "cell_type": "markdown",
   "metadata": {},
   "source": [
    "Question 3"
   ]
  },
  {
   "cell_type": "code",
   "execution_count": 10,
   "metadata": {},
   "outputs": [
    {
     "name": "stdout",
     "output_type": "stream",
     "text": [
      "8\n"
     ]
    },
    {
     "data": {
      "text/plain": [
       "{1: 1, 2: 4, 3: 9, 4: 16, 5: 25, 6: 36, 7: 49, 8: 64}"
      ]
     },
     "execution_count": 10,
     "metadata": {},
     "output_type": "execute_result"
    }
   ],
   "source": [
    "dict={}\n",
    "i=1\n",
    "n = int(input())\n",
    "while(i!=n+1):\n",
    "    dict[i]=i*i\n",
    "    i=i+1\n",
    "dict"
   ]
  },
  {
   "cell_type": "markdown",
   "metadata": {},
   "source": [
    "----------"
   ]
  },
  {
   "cell_type": "markdown",
   "metadata": {},
   "source": [
    "Question 4"
   ]
  },
  {
   "cell_type": "code",
   "execution_count": 14,
   "metadata": {},
   "outputs": [
    {
     "name": "stdout",
     "output_type": "stream",
     "text": [
      "4\n",
      "UP 5\n",
      "DOWN 3\n",
      "LEFT 3\n",
      "RIGHT 2\n",
      "2\n"
     ]
    }
   ],
   "source": [
    "pos = {\n",
    "    \"x\": 0, \n",
    "    \"y\": 0\n",
    "}\n",
    "z=int(input())\n",
    "c=0\n",
    "while (c!=z):\n",
    "\n",
    "    n = input()\n",
    "    c=c+1\n",
    "    if not n:\n",
    "        break\n",
    "\n",
    "    direction,steps=n.split()\n",
    "    if direction == \"UP\":\n",
    "        pos[\"y\"] += int(steps)\n",
    "    elif direction == \"DOWN\":\n",
    "        pos[\"y\"] -= int(steps)\n",
    "    elif direction == \"LEFT\":\n",
    "        pos[\"x\"] -= int(steps)\n",
    "    elif direction == \"RIGHT\":\n",
    "        pos[\"x\"] += int(steps)\n",
    "print (int(round((pos[\"x\"]**2 + pos[\"y\"]**2)**0.5)))"
   ]
  }
 ],
 "metadata": {
  "kernelspec": {
   "display_name": "Python 3",
   "language": "python",
   "name": "python3"
  },
  "language_info": {
   "codemirror_mode": {
    "name": "ipython",
    "version": 3
   },
   "file_extension": ".py",
   "mimetype": "text/x-python",
   "name": "python",
   "nbconvert_exporter": "python",
   "pygments_lexer": "ipython3",
   "version": "3.7.4"
  }
 },
 "nbformat": 4,
 "nbformat_minor": 2
}
